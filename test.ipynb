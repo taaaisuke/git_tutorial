print('hello')
print('good luck')
print('git')
